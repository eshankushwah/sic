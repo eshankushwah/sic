{
 "cells": [
  {
   "cell_type": "code",
   "execution_count": 3,
   "id": "01a1969e",
   "metadata": {},
   "outputs": [],
   "source": [
    "import pandas as pd\n",
    "import numpy as np\n",
    "import matplotlib.pyplot as plt\n",
    "import seaborn as sns\n",
    "from warnings import filterwarnings\n",
    "filterwarnings('ignore')\n",
    "import statsmodels.api as sm \n",
    "import statistics\n",
    "from scipy import stats\n",
    "from statsmodels.stats import weightstats as stests\n",
    "from scipy.stats import shapiro\n",
    "from statsmodels.stats import power\n",
    "from scipy.stats import chi2_contingency\n",
    "from scipy.stats import chi2\n",
    "from scipy.stats import chisquare\n",
    "from scipy.stats import levene"
   ]
  },
  {
   "cell_type": "code",
   "execution_count": 4,
   "id": "9eba1ea9",
   "metadata": {},
   "outputs": [
    {
     "data": {
      "text/html": [
       "<div>\n",
       "<style scoped>\n",
       "    .dataframe tbody tr th:only-of-type {\n",
       "        vertical-align: middle;\n",
       "    }\n",
       "\n",
       "    .dataframe tbody tr th {\n",
       "        vertical-align: top;\n",
       "    }\n",
       "\n",
       "    .dataframe thead th {\n",
       "        text-align: right;\n",
       "    }\n",
       "</style>\n",
       "<table border=\"1\" class=\"dataframe\">\n",
       "  <thead>\n",
       "    <tr style=\"text-align: right;\">\n",
       "      <th></th>\n",
       "      <th>Patient_id</th>\n",
       "      <th>Oxy_level</th>\n",
       "      <th>Pulse_rate</th>\n",
       "      <th>Blood_Sugar</th>\n",
       "      <th>Age</th>\n",
       "      <th>Sex</th>\n",
       "      <th>Old_1</th>\n",
       "      <th>Old_2</th>\n",
       "      <th>Old_3</th>\n",
       "      <th>New_1</th>\n",
       "      <th>New_2</th>\n",
       "      <th>New_3</th>\n",
       "    </tr>\n",
       "  </thead>\n",
       "  <tbody>\n",
       "    <tr>\n",
       "      <th>0</th>\n",
       "      <td>COVPAT0001</td>\n",
       "      <td>97.109182</td>\n",
       "      <td>109.156925</td>\n",
       "      <td>83</td>\n",
       "      <td>5</td>\n",
       "      <td>M</td>\n",
       "      <td>30.08</td>\n",
       "      <td>23.14</td>\n",
       "      <td>33.58</td>\n",
       "      <td>30.51</td>\n",
       "      <td>28.75</td>\n",
       "      <td>22.47</td>\n",
       "    </tr>\n",
       "    <tr>\n",
       "      <th>1</th>\n",
       "      <td>COVPAT0002</td>\n",
       "      <td>98.039265</td>\n",
       "      <td>109.481086</td>\n",
       "      <td>119</td>\n",
       "      <td>3</td>\n",
       "      <td>M</td>\n",
       "      <td>18.38</td>\n",
       "      <td>28.86</td>\n",
       "      <td>38.32</td>\n",
       "      <td>21.66</td>\n",
       "      <td>28.53</td>\n",
       "      <td>16.05</td>\n",
       "    </tr>\n",
       "    <tr>\n",
       "      <th>2</th>\n",
       "      <td>COVPAT0003</td>\n",
       "      <td>97.904030</td>\n",
       "      <td>110.428601</td>\n",
       "      <td>80</td>\n",
       "      <td>8</td>\n",
       "      <td>F</td>\n",
       "      <td>30.27</td>\n",
       "      <td>24.32</td>\n",
       "      <td>42.16</td>\n",
       "      <td>21.99</td>\n",
       "      <td>31.26</td>\n",
       "      <td>20.15</td>\n",
       "    </tr>\n",
       "    <tr>\n",
       "      <th>3</th>\n",
       "      <td>COVPAT0004</td>\n",
       "      <td>99.212383</td>\n",
       "      <td>110.048527</td>\n",
       "      <td>95</td>\n",
       "      <td>5</td>\n",
       "      <td>M</td>\n",
       "      <td>28.81</td>\n",
       "      <td>21.73</td>\n",
       "      <td>21.46</td>\n",
       "      <td>24.66</td>\n",
       "      <td>26.34</td>\n",
       "      <td>15.90</td>\n",
       "    </tr>\n",
       "    <tr>\n",
       "      <th>4</th>\n",
       "      <td>COVPAT0005</td>\n",
       "      <td>99.235056</td>\n",
       "      <td>110.180046</td>\n",
       "      <td>82</td>\n",
       "      <td>6</td>\n",
       "      <td>M</td>\n",
       "      <td>25.06</td>\n",
       "      <td>32.65</td>\n",
       "      <td>27.54</td>\n",
       "      <td>25.84</td>\n",
       "      <td>20.59</td>\n",
       "      <td>21.65</td>\n",
       "    </tr>\n",
       "  </tbody>\n",
       "</table>\n",
       "</div>"
      ],
      "text/plain": [
       "   Patient_id  Oxy_level  Pulse_rate  Blood_Sugar  Age Sex  Old_1  Old_2  \\\n",
       "0  COVPAT0001  97.109182  109.156925           83    5   M  30.08  23.14   \n",
       "1  COVPAT0002  98.039265  109.481086          119    3   M  18.38  28.86   \n",
       "2  COVPAT0003  97.904030  110.428601           80    8   F  30.27  24.32   \n",
       "3  COVPAT0004  99.212383  110.048527           95    5   M  28.81  21.73   \n",
       "4  COVPAT0005  99.235056  110.180046           82    6   M  25.06  32.65   \n",
       "\n",
       "   Old_3  New_1  New_2  New_3  \n",
       "0  33.58  30.51  28.75  22.47  \n",
       "1  38.32  21.66  28.53  16.05  \n",
       "2  42.16  21.99  31.26  20.15  \n",
       "3  21.46  24.66  26.34  15.90  \n",
       "4  27.54  25.84  20.59  21.65  "
      ]
     },
     "execution_count": 4,
     "metadata": {},
     "output_type": "execute_result"
    }
   ],
   "source": [
    "drug_data=pd.read_csv('Stats_project_dataset.csv')\n",
    "drug_data.head()"
   ]
  },
  {
   "cell_type": "markdown",
   "id": "05b565f3",
   "metadata": {},
   "source": [
    "# 1.\tFor the problem statement, Test the Assumptions about the patients’ health record.\n",
    "•\tForm the required hypothesis and test them.\n"
   ]
  },
  {
   "cell_type": "markdown",
   "id": "c6029931",
   "metadata": {},
   "source": [
    "# Health Factors\n",
    "1.\tNormal Oxygen Level ( denoted as Oxy_level ) The average Oxygen level should be 99 .\n",
    "2.\tAverage Pulse rate ( denoted as Pulse_rate ) of the patient should be 100 .\n",
    "3.\tAverage blood sugar ( denoted as Blood_Sugar ) level as 150 ."
   ]
  },
  {
   "cell_type": "code",
   "execution_count": 6,
   "id": "9fe2925e",
   "metadata": {},
   "outputs": [
    {
     "name": "stdout",
     "output_type": "stream",
     "text": [
      "Test Statistic Value -  -0.2010490370305701\n",
      "t value from table -  1.9599639845400545\n"
     ]
    }
   ],
   "source": [
    "# Null Hypothesis H0: the average Oxygen level is 99 \n",
    "# Alternative Hypothesis H1: the average Oxygen level is not 99 \n",
    "\n",
    "t_val=stats.norm.isf(.05/2)\n",
    "oxygen_mean=drug_data['Oxy_level'].mean()\n",
    "oxygen_std=drug_data['Oxy_level'].std()\n",
    "sample_size=5000\n",
    "t_stat=(oxygen_mean- 99)/(oxygen_std/ (sample_size**(1/2)))\n",
    "print(\"Test Statistic Value - \", t_stat)\n",
    "print('t value from table - ', t_val)\n",
    "#Since Test Statistic Value > t value from table, we have to reject the Null Hypothesis\n",
    "#Hence we have to accept the Alternative Hypothesis that there is a lot of variation With Respect to the Blood Sugar Level\n",
    "# The medicine is affecting the blood sugar Level"
   ]
  },
  {
   "cell_type": "code",
   "execution_count": 7,
   "id": "46cef6e3",
   "metadata": {},
   "outputs": [
    {
     "name": "stdout",
     "output_type": "stream",
     "text": [
      "Test Statistic Value  706.2946125241211\n",
      "t value from table 1.9599639845400545\n"
     ]
    }
   ],
   "source": [
    "# Null Hypothesis H0 : the Pulse rate is 100 \n",
    "# Alternative Hypothesis : the  H1 is Average Pulse rate is not 100\n",
    "\n",
    "t_val=stats.norm.isf(.05/2)\n",
    "pulse_mean=drug_data['Pulse_rate'].mean()\n",
    "pulse_std=drug_data['Pulse_rate'].std()\n",
    "sample_size=5000\n",
    "t_stat=(pulse_mean- 100)/(pulse_std/ (sample_size**(1/2)))\n",
    "print(\"Test Statistic Value \", t_stat)\n",
    "print('t value from table', t_val)\n",
    "#Since Test Statistic Value > t value from table, we have to reject the Null Hypothesis\n",
    "#Hence we have to accept the Alternative Hypothesis that there is a lot of variation With Respect to the Pulse rate\n",
    "# The medicine is affecting the Pulse rate"
   ]
  },
  {
   "cell_type": "code",
   "execution_count": 5,
   "id": "7b40f824",
   "metadata": {},
   "outputs": [
    {
     "name": "stdout",
     "output_type": "stream",
     "text": [
      "Test Statistic Value  -69.90557059298307\n",
      "t value from table 1.9599639845400545\n"
     ]
    }
   ],
   "source": [
    "# Null Hypothesis H0 : the that the Normal Blood Sugar level as 150\n",
    "#Then the alternative Hypothesis H1 is Average Blood Sugar level is not 150\n",
    "\n",
    "t_val=stats.norm.isf(.05/2)\n",
    "blood_sugar_mean=drug_data['Oxy_level'].mean()\n",
    "blood_sugar_std=drug_data['Oxy_level'].std()\n",
    "sample_size=5000\n",
    "t_stat=(blood_sugar_mean- 100)/(blood_sugar_std/ (sample_size**(1/2)))\n",
    "print(\"Test Statistic Value \", t_stat)\n",
    "print('t value from table', t_val)\n",
    "#Since Test Statistic Value > t value from table, we have to reject the Null Hypothesis\n",
    "#Hence we have to accept the Alternative Hypothesis that there is a lot of variation With Respect to the Oxy_level\n",
    "# The medicine is affecting the Oxy_level"
   ]
  },
  {
   "cell_type": "markdown",
   "id": "cde713df",
   "metadata": {},
   "source": [
    "# 2.\tValidate that there was no discrimination based on age group and gender while selecting the patient or in other words the patients were selected randomly.\n",
    "Age group is described as  , \n",
    "Age\tAge group\n",
    "Age  <  12\tA\n",
    "12  <  Age  ≤  25\tB\n",
    "25  <  Age  ≤  40\tC\n",
    "40  <  Age  ≤  58\tD\n",
    "58  <  Age\tE"
   ]
  },
  {
   "cell_type": "code",
   "execution_count": 13,
   "id": "74838e11",
   "metadata": {},
   "outputs": [
    {
     "name": "stdout",
     "output_type": "stream",
     "text": [
      "Expected frequency is  1000.0\n",
      "No of people in the category A, age <= 12 is  964\n",
      "No of people in the category B, age between 12<=age <=25 is   562\n",
      "No of people in the category C, age between 25< age <=40 is   670\n",
      "No of people in the category D, age between 40< age <=58 is   835\n",
      "No of people in the category E, age between 4above 58 is   1969\n",
      "Observed Frequency is  0     964\n",
      "1     562\n",
      "2     670\n",
      "3     835\n",
      "4    1969\n",
      "dtype: int64\n",
      "P value is  2.576761359000088e-273\n"
     ]
    }
   ],
   "source": [
    "# Null Hypothesis H0 : there is no discrimination based on age group. \n",
    "#Test this we use Chi Square test\n",
    "#If it is selected equally , Expected Frequesncy should be 5000/5, where 5 is the no of groups in the question\n",
    "print('Expected frequency is ', 5000/5)\n",
    "drug_data[drug_data['Age'] <=12].count()\n",
    "print('No of people in the category A, age <= 12 is ',  964)\n",
    "\n",
    "drug_data[(drug_data['Age'] >12)  & (drug_data['Age'] <=25)].count()\n",
    "print('No of people in the category B, age between 12<=age <=25 is  ',  562)\n",
    "drug_data[(drug_data['Age'] >25)  & (drug_data['Age'] <=40)].count()\n",
    "print('No of people in the category C, age between 25< age <=40 is  ',  670)\n",
    "drug_data[(drug_data['Age'] >40)  & (drug_data['Age'] <=58)].count()\n",
    "print('No of people in the category D, age between 40< age <=58 is  ',  835)\n",
    "drug_data[drug_data['Age'] >58].count()\n",
    "print('No of people in the category E, age between 4above 58 is  ',  1969)\n",
    "observed_frequency=pd.Series([964,562,670,835,1969])\n",
    "print('Observed Frequency is ',observed_frequency )\n",
    "Expected_frequency=pd.Series([1000,1000,1000,1000,1000])\n",
    "stats, p_value= chisquare(f_obs=observed_frequency, f_exp=Expected_frequency)\n",
    "print('P value is ', p_value)\n",
    "#Since p value is less than 0.05, We can accept the Null Hypothesis\n",
    "#Hence we can conclude that there is no discrimination made while selecting the sample elements"
   ]
  },
  {
   "cell_type": "markdown",
   "id": "5eae5a60",
   "metadata": {},
   "source": [
    "# 3.\tValidate the claim that New Drug works better"
   ]
  },
  {
   "cell_type": "code",
   "execution_count": 21,
   "id": "d979823d",
   "metadata": {},
   "outputs": [
    {
     "name": "stdout",
     "output_type": "stream",
     "text": [
      "Avg Mean of Old drug  29.58\n",
      "Avg Mean of New drug  22.7\n",
      "The test Statistic value is  -106.54\n",
      "For 95% level t value is 1.96\n",
      "Hence Avg Mean of New Drug is greater than that of old one\n",
      "Hence we can Conclude that the new drug is better\n"
     ]
    }
   ],
   "source": [
    "#First we construct two new columns which gives the average performance of Old and New drug\n",
    "\n",
    "drug_data['old123_Average']=(drug_data['Old_1']+drug_data['Old_2']+drug_data['Old_3'])/3\n",
    "drug_data['new123_Average']=round((drug_data['New_1']+drug_data['New_2']+drug_data['New_3'])/3, 2)\n",
    "old123_Average_mean=drug_data['old123_Average'].mean()\n",
    "print(\"Avg Mean of Old drug \", round(old123_Average_mean,2))\n",
    "new123_Average_mean=drug_data['new123_Average'].mean()\n",
    "print(\"Avg Mean of New drug \", round(new123_Average_mean,2))\n",
    "s1=drug_data['old123_Average'].std()\n",
    "s2=drug_data['new123_Average'].std()\n",
    "#Let H0 be the null hypothesis that New drug is better than the old drug\n",
    "# If new drug is better then the Old_1 then the AM of New_1 greater than the AM of Old_1\n",
    "#Let H0 be the null hypothesis that AM of Old_1 <= Am of New_1\n",
    "#Test Statistic t= Sampling distribution  of Differences of AM\n",
    "n1=5000\n",
    "n2=5000\n",
    "Numerator= new123_Average_mean-old123_Average_mean\n",
    "Dinominater=((s1**2/n1) +(s2**2/n2))**(1/2)\n",
    "t=round(Numerator/Dinominater, 2)\n",
    "print('The test Statistic value is ', t)\n",
    "#t_val=stats.norm.isf(.05/2)\n",
    "\n",
    "print('For 95% level t value is 1.96')\n",
    "#calculated  t> Table value, so  reject the  the Null Hypothesis that AM of Old_1 <= Am of New_1, \n",
    "print('Hence Avg Mean of New Drug is greater than that of old one') \n",
    "print('Hence we can Conclude that the new drug is better') "
   ]
  },
  {
   "cell_type": "markdown",
   "id": "f5c43c63",
   "metadata": {},
   "source": [
    "# 4.\tAlso validate the claim that there is gradual improvement in performance of the New Drug over the phases"
   ]
  },
  {
   "cell_type": "code",
   "execution_count": 6,
   "id": "2f6a5d67",
   "metadata": {},
   "outputs": [
    {
     "name": "stdout",
     "output_type": "stream",
     "text": [
      "Let H0 be the null Hypothesis that ther is a gradual improvement from New1  to new 2\n",
      "That is H0 be the null Hypothesis that New_1_mean <= New_2_mean\n",
      "The test Statistic t is  1.263382633959093\n",
      "The the  t value is  1.9599639845400545\n",
      "Since The test Statistic t is less than tval=1.96, we have to accept the null hypothesis that the mesn of New1<=New2 mean\n",
      "It means that New2 mean is bigger means performance of New2 is good\n"
     ]
    }
   ],
   "source": [
    "print('Let H0 be the null Hypothesis that ther is a gradual improvement from New1  to new 2')\n",
    "print('That is H0 be the null Hypothesis that New_1_mean <= New_2_mean')\n",
    "# We use the test statistics sampling differences of arithmetic mean for New1 and new 2, and again New2 to New3\n",
    "New_1_mean=drug_data['New_1'].mean()\n",
    "New_2_mean=drug_data['New_2'].mean()\n",
    "New_1_std=drug_data['New_1'].std()\n",
    "New_2_std=drug_data['New_2'].std()\n",
    "test_sttistic=(New_1_mean -New_2_mean)/((((New_1_std**2) + (New_2_std**2))/5000)**(1/2))\n",
    "print('The test Statistic t is ', test_sttistic)\n",
    "tval=stats.norm.isf(.05/2)\n",
    "print('The the  t value is ', tval)\n",
    "print('Since The test Statistic t is less than tval=1.96, we have to accept the null hypothesis that the mesn of New1<=New2 mean')\n",
    "print('It means that New2 mean is bigger means performance of New2 is good')"
   ]
  },
  {
   "cell_type": "code",
   "execution_count": 7,
   "id": "81158e9d",
   "metadata": {},
   "outputs": [
    {
     "name": "stdout",
     "output_type": "stream",
     "text": [
      "Let H0 be the null Hypothesis that ther is a gradual improvement from New2  to new 3\n",
      "That is H0 be the null Hypothesis that New_2_mean <= New_3_mean\n",
      "The test Statistic t is  0.0\n",
      "The   t value is  1.9599639845400545\n",
      "Since The test Statistic t is less than tvalues=1.96, we have to accept the null hypothesis that the means of New1<=New2 mean\n",
      "It means that New3 mean is bigger means performance of New3 is good\n"
     ]
    }
   ],
   "source": [
    "print('Let H0 be the null Hypothesis that ther is a gradual improvement from New2  to new 3')\n",
    "print('That is H0 be the null Hypothesis that New_2_mean <= New_3_mean')\n",
    "# We use the test statistics sampling differences of arithmetic mean for New1 and new 2, and again New2 to New3\n",
    "New_2_mean=drug_data['New_2'].mean()\n",
    "New_3_mean=drug_data['New_2'].mean()\n",
    "New_2_std=drug_data['New_2'].std()\n",
    "New_3_std=drug_data['New_3'].std()\n",
    "test_stats=(New_2_mean -New_3_mean)/((((New_2_std**2) + (New_3_std**2))/5000)**(1/2))\n",
    "print('The test Statistic t is ', test_stats)\n",
    "tvalues_t=stats.norm.isf(.05/2)\n",
    "print('The   t value is ', tvalues_t)\n",
    "print('Since The test Statistic t is less than tvalues=1.96, we have to accept the null hypothesis that the means of New1<=New2 mean')\n",
    "print('It means that New3 mean is bigger means performance of New3 is good')"
   ]
  },
  {
   "cell_type": "markdown",
   "id": "02a11509",
   "metadata": {},
   "source": [
    "# 5.\tTest whether the New Drug works better on any specific age group or it has uniform effect on the age group"
   ]
  },
  {
   "cell_type": "code",
   "execution_count": 10,
   "id": "bf7aa92d",
   "metadata": {},
   "outputs": [
    {
     "data": {
      "text/plain": [
       "F_onewayResult(statistic=4229.399855857439, pvalue=0.0)"
      ]
     },
     "execution_count": 10,
     "metadata": {},
     "output_type": "execute_result"
    }
   ],
   "source": [
    "drug_data['newDrug123']=(drug_data['New_1']+drug_data['New_2']+drug_data['New_3'])\n",
    "annova_val=stats.f_oneway(drug_data['newDrug123'],drug_data['Age'])\n",
    "annova_val\n",
    "# As there is a significant difference between the statistics value and p value. New Drug works on a specific age group."
   ]
  },
  {
   "cell_type": "code",
   "execution_count": null,
   "id": "e2b7e517",
   "metadata": {},
   "outputs": [],
   "source": []
  }
 ],
 "metadata": {
  "kernelspec": {
   "display_name": "Python 3",
   "language": "python",
   "name": "python3"
  },
  "language_info": {
   "codemirror_mode": {
    "name": "ipython",
    "version": 3
   },
   "file_extension": ".py",
   "mimetype": "text/x-python",
   "name": "python",
   "nbconvert_exporter": "python",
   "pygments_lexer": "ipython3",
   "version": "3.8.8"
  }
 },
 "nbformat": 4,
 "nbformat_minor": 5
}
