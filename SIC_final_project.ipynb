{
  "nbformat": 4,
  "nbformat_minor": 0,
  "metadata": {
    "colab": {
      "provenance": [],
      "gpuType": "T4",
      "authorship_tag": "ABX9TyOlVBKquF7Geqmq4pfb9h0d",
      "include_colab_link": true
    },
    "kernelspec": {
      "name": "python3",
      "display_name": "Python 3"
    },
    "language_info": {
      "name": "python"
    },
    "accelerator": "GPU"
  },
  "cells": [
    {
      "cell_type": "markdown",
      "metadata": {
        "id": "view-in-github",
        "colab_type": "text"
      },
      "source": [
        "<a href=\"https://colab.research.google.com/github/eshankushwah/sic/blob/main/SIC_final_project.ipynb\" target=\"_parent\"><img src=\"https://colab.research.google.com/assets/colab-badge.svg\" alt=\"Open In Colab\"/></a>"
      ]
    },
    {
      "cell_type": "markdown",
      "source": [
        "  <tr>\n",
        "        <td width=\"15%\">\n",
        "        </td>\n",
        "        <td>\n",
        "            <div align=\"left\">\n",
        "                <font size=25px>\n",
        "                    <b>House Price Prediction\n",
        "                    </b>\n",
        "                </font>\n",
        "            </div>\n",
        "        </td>\n",
        "    </tr>\n",
        "\n"
      ],
      "metadata": {
        "id": "vsTOODmBESHB"
      }
    },
    {
      "cell_type": "markdown",
      "source": [
        "## Team 8 - Eshan Kushwah & Anushree M\n",
        "     "
      ],
      "metadata": {
        "id": "tsF5YqYzIMWg"
      }
    },
    {
      "cell_type": "markdown",
      "source": [
        "## Problem Statement:\n",
        "The objective of my dataset is to predcit the house prices using machine learning aims to develop a model that accurately estimates property values based on features like location, size, amenities, etc. The goal is to assist buyers, sellers, and real estate professionals in making informed decisions about pricing and investments."
      ],
      "metadata": {
        "id": "HI-MegnYEqv4"
      }
    },
    {
      "cell_type": "markdown",
      "source": [
        "## Data Definition:\n",
        "\n",
        "train.csv - the training set   \n",
        "test.csv - the test set                                \n",
        "Data source - https://www.kaggle.com/competitions/house-prices-advanced-regression-techniques/data\n",
        "\n",
        "\n",
        "Attribute Information: It contains 1460 training data points and 80 features that might help us predict the selling price of a house.\n",
        "\n",
        "\n",
        "**MSSubClass**: Identifies the type of dwelling involved in the sale.\n",
        "\n",
        "        20\t1-STORY 1946 & NEWER ALL STYLES\n",
        "        30\t1-STORY 1945 & OLDER\n",
        "        40\t1-STORY W/FINISHED ATTIC ALL AGES\n",
        "        45\t1-1/2 STORY - UNFINISHED ALL AGES\n",
        "        50\t1-1/2 STORY FINISHED ALL AGES\n",
        "        60\t2-STORY 1946 & NEWER\n",
        "        70\t2-STORY 1945 & OLDER\n",
        "        75\t2-1/2 STORY ALL AGES\n",
        "        80\tSPLIT OR MULTI-LEVEL\n",
        "        85\tSPLIT FOYER\n",
        "        90\tDUPLEX - ALL STYLES AND AGES\n",
        "       120\t1-STORY PUD (Planned Unit Development) - 1946 & NEWER\n",
        "       150\t1-1/2 STORY PUD - ALL AGES\n",
        "       160\t2-STORY PUD - 1946 & NEWER\n",
        "       180\tPUD - MULTILEVEL - INCL SPLIT LEV/FOYER\n",
        "       190\t2 FAMILY CONVERSION - ALL STYLES AND AGES\n",
        "\n",
        "**MSZoning**: Identifies the general zoning classification of the sale.\n",
        "\n",
        "       A\tAgriculture\n",
        "       C\tCommercial\n",
        "       FV\tFloating Village Residential\n",
        "       I\tIndustrial\n",
        "       RH\tResidential High Density\n",
        "       RL\tResidential Low Density\n",
        "       RP\tResidential Low Density Park\n",
        "       RM\tResidential Medium Density\n",
        "\n",
        "**LotFrontage**: Linear feet of street connected to property\n",
        "\n",
        "**LotArea**: Lot size in square feet\n",
        "\n",
        "**Street**: Type of road access to property\n",
        "\n",
        "       Grvl\tGravel\n",
        "       Pave\tPaved\n",
        "\n",
        "**Alley**: Type of alley access to property\n",
        "\n",
        "       Grvl\tGravel\n",
        "       Pave\tPaved\n",
        "       NA \tNo alley access\n",
        "\n",
        "**LotShape**: General shape of property\n",
        "\n",
        "       Reg\tRegular\n",
        "       IR1\tSlightly irregular\n",
        "       IR2\tModerately Irregular\n",
        "       IR3\tIrregular\n",
        "       \n",
        "**LandContour**: Flatness of the property\n",
        "\n",
        "       Lvl\tNear Flat/Level\n",
        "       Bnk\tBanked - Quick and significant rise from street grade to building\n",
        "       HLS\tHillside - Significant slope from side to side\n",
        "       Low\tDepression\n",
        "\n",
        "**Utilities**: Type of utilities available\n",
        "\n",
        "       AllPub\tAll public Utilities (E,G,W,& S)\n",
        "       NoSewr\tElectricity, Gas, and Water (Septic Tank)\n",
        "       NoSeWa\tElectricity and Gas Only\n",
        "       ELO\tElectricity only\n",
        "\n",
        "**LotConfig**: Lot configuration\n",
        "\n",
        "       Inside\tInside lot\n",
        "       Corner\tCorner lot\n",
        "       CulDSac\tCul-de-sac\n",
        "       FR2\tFrontage on 2 sides of property\n",
        "       FR3\tFrontage on 3 sides of property\n",
        "\n",
        "**LandSlope**: Slope of property\n",
        "\n",
        "       Gtl\tGentle slope\n",
        "       Mod\tModerate Slope\n",
        "       Sev\tSevere Slope\n",
        "\n",
        "**Neighborhood**: Physical locations within Ames city limits\n",
        "\n",
        "       Blmngtn\tBloomington Heights\n",
        "       Blueste\tBluestem\n",
        "       BrDale\tBriardale\n",
        "       BrkSide\tBrookside\n",
        "       ClearCr\tClear Creek\n",
        "       CollgCr\tCollege Creek\n",
        "       Crawfor\tCrawford\n",
        "       Edwards\tEdwards\n",
        "       Gilbert\tGilbert\n",
        "       IDOTRR\tIowa DOT and Rail Road\n",
        "       MeadowV\tMeadow Village\n",
        "       Mitchel\tMitchell\n",
        "       Names\tNorth Ames\n",
        "       NoRidge\tNorthridge\n",
        "       NPkVill\tNorthpark Villa\n",
        "       NridgHt\tNorthridge Heights\n",
        "       NWAmes\tNorthwest Ames\n",
        "       OldTown\tOld Town\n",
        "       SWISU\tSouth & West of Iowa State University\n",
        "       Sawyer\tSawyer\n",
        "       SawyerW\tSawyer West\n",
        "       Somerst\tSomerset\n",
        "       StoneBr\tStone Brook\n",
        "       Timber\tTimberland\n",
        "       Veenker\tVeenker\n",
        "\n",
        "**Condition1**: Proximity to various conditions\n",
        "\n",
        "       Artery\tAdjacent to arterial street\n",
        "       Feedr\tAdjacent to feeder street\n",
        "       Norm\tNormal\n",
        "       RRNn\tWithin 200' of North-South Railroad\n",
        "       RRAn\tAdjacent to North-South Railroad\n",
        "       PosN\tNear positive off-site feature--park, greenbelt, etc.\n",
        "       PosA\tAdjacent to postive off-site feature\n",
        "       RRNe\tWithin 200' of East-West Railroad\n",
        "       RRAe\tAdjacent to East-West Railroad\n",
        "\n",
        "**Condition2**: Proximity to various conditions (if more than one is present)\n",
        "\n",
        "       Artery\tAdjacent to arterial street\n",
        "       Feedr\tAdjacent to feeder street\n",
        "       Norm\tNormal\n",
        "       RRNn\tWithin 200' of North-South Railroad\n",
        "       RRAn\tAdjacent to North-South Railroad\n",
        "       PosN\tNear positive off-site feature--park, greenbelt, etc.\n",
        "       PosA\tAdjacent to postive off-site feature\n",
        "       RRNe\tWithin 200' of East-West Railroad\n",
        "       RRAe\tAdjacent to East-West Railroad\n",
        "\n",
        "**BldgType**: Type of dwelling\n",
        "\n",
        "       1Fam\tSingle-family Detached\n",
        "       2FmCon\tTwo-family Conversion; originally built as one-family dwelling\n",
        "       Duplx\tDuplex\n",
        "       TwnhsE\tTownhouse End Unit\n",
        "       TwnhsI\tTownhouse Inside Unit\n",
        "\n",
        "**HouseStyle**: Style of dwelling\n",
        "\n",
        "       1Story\tOne story\n",
        "       1.5Fin\tOne and one-half story: 2nd level finished\n",
        "       1.5Unf\tOne and one-half story: 2nd level unfinished\n",
        "       2Story\tTwo story\n",
        "       2.5Fin\tTwo and one-half story: 2nd level finished\n",
        "       2.5Unf\tTwo and one-half story: 2nd level unfinished\n",
        "       SFoyer\tSplit Foyer\n",
        "       SLvl\tSplit Level\n",
        "\n",
        "**OverallQual**: Rates the overall material and finish of the house\n",
        "\n",
        "       10\tVery Excellent\n",
        "       9\tExcellent\n",
        "       8\tVery Good\n",
        "       7\tGood\n",
        "       6\tAbove Average\n",
        "       5\tAverage\n",
        "       4\tBelow Average\n",
        "       3\tFair\n",
        "       2\tPoor\n",
        "       1\tVery Poor\n",
        "\n",
        "**OverallCond**: Rates the overall condition of the house\n",
        "\n",
        "       10\tVery Excellent\n",
        "       9\tExcellent\n",
        "       8\tVery Good\n",
        "       7\tGood\n",
        "       6\tAbove Average\n",
        "       5\tAverage\n",
        "       4\tBelow Average\n",
        "       3\tFair\n",
        "       2\tPoor\n",
        "       1\tVery Poor\n",
        "\n",
        "**YearBuilt**: Original construction date\n",
        "\n",
        "**YearRemodAdd**: Remodel date (same as construction date if no remodeling or additions)\n",
        "\n",
        "**RoofStyle**: Type of roof\n",
        "\n",
        "       Flat\tFlat\n",
        "       Gable\tGable\n",
        "       Gambrel\tGabrel (Barn)\n",
        "       Hip\tHip\n",
        "       Mansard\tMansard\n",
        "       Shed\tShed\n",
        "\n",
        "**RoofMatl**: Roof material\n",
        "\n",
        "       ClyTile\tClay or Tile\n",
        "       CompShg\tStandard (Composite) Shingle\n",
        "       Membran\tMembrane\n",
        "       Metal\tMetal\n",
        "       Roll\tRoll\n",
        "       Tar&Grv\tGravel & Tar\n",
        "       WdShake\tWood Shakes\n",
        "       WdShngl\tWood Shingles\n",
        "\n",
        "**Exterior1st**: Exterior covering on house\n",
        "\n",
        "       AsbShng\tAsbestos Shingles\n",
        "       AsphShn\tAsphalt Shingles\n",
        "       BrkComm\tBrick Common\n",
        "       BrkFace\tBrick Face\n",
        "       CBlock\tCinder Block\n",
        "       CemntBd\tCement Board\n",
        "       HdBoard\tHard Board\n",
        "       ImStucc\tImitation Stucco\n",
        "       MetalSd\tMetal Siding\n",
        "       Other\tOther\n",
        "       Plywood\tPlywood\n",
        "       PreCast\tPreCast\n",
        "       Stone\tStone\n",
        "       Stucco\tStucco\n",
        "       VinylSd\tVinyl Siding\n",
        "       Wd Sdng\tWood Siding\n",
        "       WdShing\tWood Shingles\n",
        "\n",
        "**Exterior2nd**: Exterior covering on house (if more than one material)\n",
        "\n",
        "       AsbShng\tAsbestos Shingles\n",
        "       AsphShn\tAsphalt Shingles\n",
        "       BrkComm\tBrick Common\n",
        "       BrkFace\tBrick Face\n",
        "       CBlock\tCinder Block\n",
        "       CemntBd\tCement Board\n",
        "       HdBoard\tHard Board\n",
        "       ImStucc\tImitation Stucco\n",
        "       MetalSd\tMetal Siding\n",
        "       Other\tOther\n",
        "       Plywood\tPlywood\n",
        "       PreCast\tPreCast\n",
        "       Stone\tStone\n",
        "       Stucco\tStucco\n",
        "       VinylSd\tVinyl Siding\n",
        "       Wd Sdng\tWood Siding\n",
        "       WdShing\tWood Shingles\n",
        "\n",
        "**MasVnrType**: Masonry veneer type\n",
        "\n",
        "       BrkCmn\tBrick Common\n",
        "       BrkFace\tBrick Face\n",
        "       CBlock\tCinder Block\n",
        "       None\tNone\n",
        "       Stone\tStone\n",
        "\n",
        "**MasVnrArea**: Masonry veneer area in square feet\n",
        "\n",
        "**ExterQual**: Evaluates the quality of the material on the exterior\n",
        "\n",
        "       Ex\tExcellent\n",
        "       Gd\tGood\n",
        "       TA\tAverage/Typical\n",
        "       Fa\tFair\n",
        "       Po\tPoor\n",
        "\n",
        "**ExterCond**: Evaluates the present condition of the material on the exterior\n",
        "\n",
        "       Ex\tExcellent\n",
        "       Gd\tGood\n",
        "       TA\tAverage/Typical\n",
        "       Fa\tFair\n",
        "       Po\tPoor\n",
        "\n",
        "**Foundation**: Type of foundation\n",
        "\n",
        "       BrkTil\tBrick & Tile\n",
        "       CBlock\tCinder Block\n",
        "       PConc\tPoured Contrete\n",
        "       Slab\tSlab\n",
        "       Stone\tStone\n",
        "       Wood\tWood\n",
        "\n",
        "**BsmtQual** Evaluates the height of the basement\n",
        "\n",
        "       Ex\tExcellent (100+ inches)\n",
        "       Gd\tGood (90-99 inches)\n",
        "       TA\tTypical (80-89 inches)\n",
        "       Fa\tFair (70-79 inches)\n",
        "       Po\tPoor (<70 inches)\n",
        "       NA\tNo Basement\n",
        "\n",
        "**BsmtCond**: Evaluates the general condition of the basement\n",
        "\n",
        "       Ex\tExcellent\n",
        "       Gd\tGood\n",
        "       TA\tTypical - slight dampness allowed\n",
        "       Fa\tFair - dampness or some cracking or settling\n",
        "       Po\tPoor - Severe cracking, settling, or wetness\n",
        "       NA\tNo Basement\n",
        "\n",
        "**BsmtExposure**: Refers to walkout or garden level walls\n",
        "\n",
        "       Gd\tGood Exposure\n",
        "       Av\tAverage Exposure (split levels or foyers typically score average or above)\n",
        "       Mn\tMimimum Exposure\n",
        "       No\tNo Exposure\n",
        "       NA\tNo Basement\n",
        "\n",
        "**BsmtFinType1**: Rating of basement finished area\n",
        "\n",
        "       GLQ\tGood Living Quarters\n",
        "       ALQ\tAverage Living Quarters\n",
        "       BLQ\tBelow Average Living Quarters\n",
        "       Rec\tAverage Rec Room\n",
        "       LwQ\tLow Quality\n",
        "       Unf\tUnfinshed\n",
        "       NA\tNo Basement\n",
        "\n",
        "**BsmtFinSF1**: Type 1 finished square feet\n",
        "\n",
        "**BsmtFinType2**: Rating of basement finished area (if multiple types)\n",
        "\n",
        "       GLQ\tGood Living Quarters\n",
        "       ALQ\tAverage Living Quarters\n",
        "       BLQ\tBelow Average Living Quarters\n",
        "       Rec\tAverage Rec Room\n",
        "       LwQ\tLow Quality\n",
        "       Unf\tUnfinshed\n",
        "       NA\tNo Basement\n",
        "\n",
        "**BsmtFinSF2**: Type 2 finished square feet\n",
        "\n",
        "**BsmtUnfSF**: Unfinished square feet of basement area\n",
        "\n",
        "**TotalBsmtSF**: Total square feet of basement area\n",
        "\n",
        "**Heating**: Type of heating\n",
        "\n",
        "       Floor\tFloor Furnace\n",
        "       GasA\tGas forced warm air furnace\n",
        "       GasW\tGas hot water or steam heat\n",
        "       Grav\tGravity furnace\n",
        "       OthW\tHot water or steam heat other than gas\n",
        "       Wall\tWall furnace\n",
        "\n",
        "**HeatingQC**: Heating quality and condition\n",
        "\n",
        "       Ex\tExcellent\n",
        "       Gd\tGood\n",
        "       TA\tAverage/Typical\n",
        "       Fa\tFair\n",
        "       Po\tPoor\n",
        "\n",
        "**CentralAir**: Central air conditioning\n",
        "\n",
        "       N\tNo\n",
        "       Y\tYes\n",
        "\n",
        "**Electrical**: Electrical system\n",
        "\n",
        "       SBrkr\tStandard Circuit Breakers & Romex\n",
        "       FuseA\tFuse Box over 60 AMP and all Romex wiring (Average)\n",
        "       FuseF\t60 AMP Fuse Box and mostly Romex wiring (Fair)\n",
        "       FuseP\t60 AMP Fuse Box and mostly knob & tube wiring (poor)\n",
        "       Mix\tMixed\n",
        "\n",
        "**1stFlrSF**: First Floor square feet\n",
        "\n",
        "**2ndFlrSF**: Second floor square feet\n",
        "\n",
        "**LowQualFinS**: Low quality finished square feet (all floors)\n",
        "\n",
        "**GrLivArea**: Above grade (ground) living area square feet\n",
        "\n",
        "**BsmtFullBath**: Basement full bathrooms\n",
        "\n",
        "**BsmtHalfBath**: Basement half bathrooms\n",
        "\n",
        "**FullBath**: Full bathrooms above grade\n",
        "\n",
        "**HalfBath**: Half baths above grade\n",
        "\n",
        "**Bedroom**: Bedrooms above grade (does NOT include basement bedrooms)\n",
        "\n",
        "**Kitchen**: Kitchens above grade\n",
        "\n",
        "**KitchenQual**: Kitchen quality\n",
        "\n",
        "       Ex\tExcellent\n",
        "       Gd\tGood\n",
        "       TA\tTypical/Average\n",
        "       Fa\tFair\n",
        "       Po\tPoor\n",
        "\n",
        "**TotRmsAbvGrd**: Total rooms above grade (does not include bathrooms)\n",
        "\n",
        "**Functional**: Home functionality (Assume typical unless deductions are warranted)\n",
        "\n",
        "       Typ\tTypical Functionality\n",
        "       Min1\tMinor Deductions 1\n",
        "       Min2\tMinor Deductions 2\n",
        "       Mod\tModerate Deductions\n",
        "       Maj1\tMajor Deductions 1\n",
        "       Maj2\tMajor Deductions 2\n",
        "       Sev\tSeverely Damaged\n",
        "       Sal\tSalvage only\n",
        "\n",
        "**Fireplaces**: Number of fireplaces\n",
        "\n",
        "**FireplaceQu**: Fireplace quality\n",
        "\n",
        "       Ex\tExcellent - Exceptional Masonry Fireplace\n",
        "       Gd\tGood - Masonry Fireplace in main level\n",
        "       TA\tAverage - Prefabricated Fireplace in main living area or Masonry Fireplace in basement\n",
        "       Fa\tFair - Prefabricated Fireplace in basement\n",
        "       Po\tPoor - Ben Franklin Stove\n",
        "       NA\tNo Fireplace\n",
        "\n",
        "**GarageType:** Garage location\n",
        "\n",
        "       2Types\tMore than one type of garage\n",
        "       Attchd\tAttached to home\n",
        "       Basment\tBasement Garage\n",
        "       BuiltIn\tBuilt-In (Garage part of house - typically has room above garage)\n",
        "       CarPort\tCar Port\n",
        "       Detchd\tDetached from home\n",
        "       NA\tNo Garage\n",
        "\n",
        "**GarageYrBlt**: Year garage was built\n",
        "\n",
        "**GarageFinish**: Interior finish of the garage\n",
        "\n",
        "       Fin\tFinished\n",
        "       RFn\tRough Finished\n",
        "       Unf\tUnfinished\n",
        "       NA\tNo Garage\n",
        "\n",
        "**GarageCars**: Size of garage in car capacity\n",
        "\n",
        "**GarageArea**: Size of garage in square feet\n",
        "\n",
        "**GarageQual**: Garage quality\n",
        "\n",
        "       Ex\tExcellent\n",
        "       Gd\tGood\n",
        "       TA\tTypical/Average\n",
        "       Fa\tFair\n",
        "       Po\tPoor\n",
        "       NA\tNo Garage\n",
        "\n",
        "**GarageCond**: Garage condition\n",
        "\n",
        "       Ex\tExcellent\n",
        "       Gd\tGood\n",
        "       TA\tTypical/Average\n",
        "       Fa\tFair\n",
        "       Po\tPoor\n",
        "       NA\tNo Garage\n",
        "\n",
        "**PavedDrive**: Paved driveway\n",
        "\n",
        "       Y\tPaved\n",
        "       P\tPartial Pavement\n",
        "       N\tDirt/Gravel\n",
        "\n",
        "**WoodDeckSF**: Wood deck area in square feet\n",
        "\n",
        "**OpenPorchSF**: Open porch area in square feet\n",
        "\n",
        "**EnclosedPorch**: Enclosed porch area in square feet\n",
        "\n",
        "**3SsnPorch**: Three season porch area in square feet\n",
        "\n",
        "**ScreenPorch**: Screen porch area in square feet\n",
        "\n",
        "**PoolArea**: Pool area in square feet\n",
        "\n",
        "**PoolQC**: Pool quality\n",
        "\n",
        "       Ex\tExcellent\n",
        "       Gd\tGood\n",
        "       TA\tAverage/Typical\n",
        "       Fa\tFair\n",
        "       NA\tNo Pool\n",
        "\n",
        "**Fence**: Fence quality\n",
        "\n",
        "       GdPrv\tGood Privacy\n",
        "       MnPrv\tMinimum Privacy\n",
        "       GdWo\tGood Wood\n",
        "       MnWw\tMinimum Wood/Wire\n",
        "       NA\tNo Fence\n",
        "\n",
        "***MiscFeature**: Miscellaneous feature not covered in other categories\n",
        "\n",
        "       Elev\tElevator\n",
        "       Gar2\t2nd Garage (if not described in garage section)\n",
        "       Othr\tOther\n",
        "       Shed\tShed (over 100 SF)\n",
        "       TenC\tTennis Court\n",
        "       NA\tNone\n",
        "\n",
        "**MiscVal**: $Value of miscellaneous feature\n",
        "\n",
        "**MoSold**: Month Sold (MM)\n",
        "\n",
        "**YrSold**: Year Sold (YYYY)\n",
        "\n",
        "**SaleType**: Type of sale\n",
        "\n",
        "       WD \tWarranty Deed - Conventional\n",
        "       CWD\tWarranty Deed - Cash\n",
        "       VWD\tWarranty Deed - VA Loan\n",
        "       New\tHome just constructed and sold\n",
        "       COD\tCourt Officer Deed/Estate\n",
        "       Con\tContract 15% Down payment regular terms\n",
        "       ConLw\tContract Low Down payment and low interest\n",
        "       ConLI\tContract Low Interest\n",
        "       ConLD\tContract Low Down\n",
        "       Oth\tOther\n",
        "\n",
        "**SaleCondition**: Condition of sale\n",
        "\n",
        "       Normal\tNormal Sale\n",
        "       Abnorml\tAbnormal Sale -  trade, foreclosure, short sale\n",
        "       AdjLand\tAdjoining Land Purchase\n",
        "       Alloca\tAllocation - two linked properties with separate deeds, typically condo with a garage unit\n",
        "       Family\tSale between family members\n",
        "       Partial\tHome was not completed when last assessed (associated with New Homes)\n"
      ],
      "metadata": {
        "id": "7R2k_iuaGWxf"
      }
    },
    {
      "cell_type": "markdown",
      "source": [
        "## Table of Content\n",
        "\n",
        "1. **[Import Libraries](#import_lib)**\n",
        "2. **[Set Options](#set_options)**\n",
        "3. **[Read Data](#RD)**\n",
        "4. **[Data Analysis and Preparation](#data_preparation)**\n",
        "    - 4.1 - **[Data Type](#Data_Types)**\n",
        "    - 4.2 - **[Check for missing values](#Summary_Statistics)**\n",
        "    - 4.3- **[Handling missing values](#distribution_variables)**\n",
        "    - 4.4 - **[Statistical Summary](#correlation)**\n",
        "    - 4.5 - **[Cleaning test data](#correlation)**     \n",
        "5. **[EDA](#LogisticReg)**\n",
        "6. **[One Hot Encoding of Categorical data](#conclusion)**\n",
        "7. **[Splitting the data](#conclusion)**\n",
        "8. **[Model Trainig](#conclusion)**\n",
        "    - 8.1 - **[Linear Regression](#Data_Types)**\n",
        "    - 8.2 - **[Decision Tree Regressor](#Data_Types)**\n",
        "    - 8.3 - **[Xgboost](#Data_Types)**\n",
        "        - 8.3.1 - **[Hyper parameter optimization](#Data_Types)**\n",
        "9. **[Prediction](#conclusion)**\n",
        "10. **[Deployment](#conclusion)**"
      ],
      "metadata": {
        "id": "b2zQPu-pJNgF"
      }
    },
    {
      "cell_type": "markdown",
      "source": [
        "<a id='import_lib'></a>\n",
        "# 1. Import Libraries"
      ],
      "metadata": {
        "id": "7UfVo62aJeBs"
      }
    },
    {
      "cell_type": "code",
      "source": [
        "# suppress display of warnings\n",
        "import warnings\n",
        "warnings.filterwarnings(\"ignore\")\n",
        "\n",
        "# 'Pandas' is used for data manipulation and analysis\n",
        "import pandas as pd\n",
        "\n",
        "# 'Numpy' is used for mathematical operations on large, multi-dimensional arrays and matrices\n",
        "import numpy as np\n",
        "\n",
        "# 'Matplotlib' is a data visualization library for 2D and 3D plots, built on numpy\n",
        "import matplotlib.pyplot as plt\n",
        "\n",
        "# 'Seaborn' is based on matplotlib; used for plotting statistical graphics\n",
        "import seaborn as sns\n",
        "\n",
        "# import various functions to perform regression\n",
        "from sklearn.model_selection import train_test_split,cross_val_score\n",
        "from sklearn.metrics import mean_squared_error\n",
        "from sklearn.linear_model import LinearRegression\n",
        "import xgboost\n",
        "from sklearn.model_selection import RandomizedSearchCV\n",
        "from sklearn.svm import SVR\n",
        "from sklearn.tree import DecisionTreeRegressor"
      ],
      "metadata": {
        "id": "VgiKl8CpJfGd"
      },
      "execution_count": null,
      "outputs": []
    },
    {
      "cell_type": "markdown",
      "source": [
        "<a id='set_options'></a>\n",
        "# 2. Set Options"
      ],
      "metadata": {
        "id": "8nZBKmIoLR4P"
      }
    },
    {
      "cell_type": "code",
      "source": [
        "# To show the all columns\n",
        "pd.set_option(\"display.max_columns\", 2000)\n",
        "\n",
        "# To show all rows\n",
        "pd.set_option(\"display.max_rows\", 250)"
      ],
      "metadata": {
        "id": "T74WusW7K3_v"
      },
      "execution_count": null,
      "outputs": []
    },
    {
      "cell_type": "markdown",
      "source": [
        "<a id='RD'></a>\n",
        "# 3. Read Data"
      ],
      "metadata": {
        "id": "j0fU49jCLk93"
      }
    },
    {
      "cell_type": "code",
      "source": [
        "# read the csv data file\n",
        "train_data=pd.read_csv('train.csv')\n",
        "\n",
        "# display the top 5 rows of the dataframe\n",
        "train_data.head()"
      ],
      "metadata": {
        "id": "QerTl_CJLcQI"
      },
      "execution_count": null,
      "outputs": []
    },
    {
      "cell_type": "markdown",
      "source": [
        "#### Dimensions of the data"
      ],
      "metadata": {
        "id": "-pV9VqV_L1NQ"
      }
    },
    {
      "cell_type": "code",
      "source": [
        "train_data.shape"
      ],
      "metadata": {
        "id": "jC0SwzRJL1qH"
      },
      "execution_count": null,
      "outputs": []
    },
    {
      "cell_type": "markdown",
      "source": [
        "<a id='data_preparation'></a>\n",
        "# 4. Data Analysis and Preparation"
      ],
      "metadata": {
        "id": "BFTCaLeNMF8w"
      }
    },
    {
      "cell_type": "markdown",
      "source": [
        "<a id='Data_Understanding'></a>\n",
        "## 4.1 Understand the Dataset"
      ],
      "metadata": {
        "id": "bhZNkmjZMNwJ"
      }
    },
    {
      "cell_type": "markdown",
      "source": [
        "<a id='Data_Types'></a>\n",
        "### 4.1.1 Data Type\n",
        "The main data types in Pandas dataframes are the object, float, int64, bool, and datetime64. To understand each attribute of our data, it is always good for us to know the data type of each column."
      ],
      "metadata": {
        "id": "ayEMLNJkMTo_"
      }
    },
    {
      "cell_type": "code",
      "source": [
        "# 'dtypes' gives the data type for each column\n",
        "train_data.dtypes"
      ],
      "metadata": {
        "id": "KCrKsoJeMGW5"
      },
      "execution_count": null,
      "outputs": []
    },
    {
      "cell_type": "markdown",
      "source": [
        "<a id='Check for missing Values'></a>\n",
        "### 4.1.2 Check for missing Valuee\n"
      ],
      "metadata": {
        "id": "Mfa0iRLBO6Je"
      }
    },
    {
      "cell_type": "code",
      "source": [
        "# get the count of missing values\n",
        "missing_values =train_data.isnull().sum()\n",
        "\n",
        "# print the count of missing values\n",
        "print(missing_values)"
      ],
      "metadata": {
        "id": "BqKxfYBQMfnW"
      },
      "execution_count": null,
      "outputs": []
    },
    {
      "cell_type": "markdown",
      "source": [
        "<a id='Check for missing Values'></a>\n",
        "\n",
        "\n",
        "\n",
        "\n",
        "### 4.1.3 Handling missing Value"
      ],
      "metadata": {
        "id": "Iq8FaWuaQDdz"
      }
    },
    {
      "cell_type": "code",
      "source": [
        "train_data['LotFrontage']=train_data['LotFrontage'].fillna(train_data['LotFrontage'].mean())\n",
        "train_data['Alley']=train_data['Alley'].fillna(train_data['Alley'].mode()[0])\n",
        "train_data['BsmtCond']=train_data['BsmtCond'].fillna(train_data['BsmtCond'].mode()[0])\n",
        "train_data['BsmtQual']=train_data['BsmtQual'].fillna(train_data['BsmtQual'].mode()[0])\n",
        "train_data['FireplaceQu']=train_data['FireplaceQu'].fillna(train_data['FireplaceQu'].mode()[0])\n",
        "train_data['GarageType']=train_data['GarageType'].fillna(train_data['GarageType'].mode()[0])\n",
        "train_data.drop(['GarageYrBlt'],axis=1,inplace=True)\n",
        "train_data['GarageFinish']=train_data['GarageFinish'].fillna(train_data['GarageFinish'].mode()[0])\n",
        "train_data['GarageQual']=train_data['GarageQual'].fillna(train_data['GarageQual'].mode()[0])\n",
        "train_data['GarageCond']=train_data['GarageCond'].fillna(train_data['GarageCond'].mode()[0])\n",
        "train_data['PoolQC']=train_data['PoolQC'].fillna(train_data['PoolQC'].mode()[0])\n",
        "train_data['Fence']=train_data['Fence'].fillna(train_data['Fence'].mode()[0])\n",
        "train_data['MiscFeature']=train_data['MiscFeature'].fillna(train_data['MiscFeature'].mode()[0])\n",
        "train_data.drop(['Id'],axis=1,inplace=True)\n",
        "train_data['MasVnrType']=train_data['MasVnrType'].fillna(train_data['MasVnrType'].mode()[0])\n",
        "train_data['MasVnrArea']=train_data['MasVnrArea'].fillna(train_data['MasVnrArea'].mode()[0])\n",
        "train_data['BsmtExposure']=train_data['BsmtExposure'].fillna(train_data['BsmtExposure'].mode()[0])\n",
        "train_data['BsmtFinType2']=train_data['BsmtFinType2'].fillna(train_data['BsmtFinType2'].mode()[0])"
      ],
      "metadata": {
        "id": "geTV4soGQGrK"
      },
      "execution_count": null,
      "outputs": []
    },
    {
      "cell_type": "code",
      "source": [
        "train_data.isna().sum()"
      ],
      "metadata": {
        "id": "uNyghmV8jfnm"
      },
      "execution_count": null,
      "outputs": []
    },
    {
      "cell_type": "code",
      "source": [
        "#remove the rows which has a null value\n",
        "train_data.dropna(inplace=True)"
      ],
      "metadata": {
        "id": "n4eYn0nRQZHa"
      },
      "execution_count": null,
      "outputs": []
    },
    {
      "cell_type": "code",
      "source": [
        "#gives total number of null values in each columns\n",
        "train_data.isna().sum()"
      ],
      "metadata": {
        "id": "xIjcca9iQdQo"
      },
      "execution_count": null,
      "outputs": []
    },
    {
      "cell_type": "code",
      "source": [
        "train_data.shape"
      ],
      "metadata": {
        "id": "jrobCPrZZb_I"
      },
      "execution_count": null,
      "outputs": []
    },
    {
      "cell_type": "markdown",
      "source": [
        "<a id='Check for missing Values'></a>\n",
        "### 4.1.4 Statistical Summary"
      ],
      "metadata": {
        "id": "c945xd-YQ5J0"
      }
    },
    {
      "cell_type": "code",
      "source": [
        "# data frame with numerical features\n",
        "train_data.describe()"
      ],
      "metadata": {
        "id": "AtKPCiVbQ9iB"
      },
      "execution_count": null,
      "outputs": []
    },
    {
      "cell_type": "markdown",
      "source": [
        "<a id='Check for missing Values'></a>\n",
        "### 4.1.5 Cleaning of test data"
      ],
      "metadata": {
        "id": "PDu057jwhK0v"
      }
    },
    {
      "cell_type": "code",
      "source": [
        "test_data=pd.read_csv('test.csv')"
      ],
      "metadata": {
        "id": "MJ042njeAdNU"
      },
      "execution_count": null,
      "outputs": []
    },
    {
      "cell_type": "code",
      "source": [
        "test_data.shape"
      ],
      "metadata": {
        "id": "ERplelB_Ap9R"
      },
      "execution_count": null,
      "outputs": []
    },
    {
      "cell_type": "code",
      "source": [
        "test_data.isnull().sum()"
      ],
      "metadata": {
        "id": "ffu5pNugAqoJ"
      },
      "execution_count": null,
      "outputs": []
    },
    {
      "cell_type": "code",
      "source": [
        "test_data['LotFrontage']=test_data['LotFrontage'].fillna(test_data['LotFrontage'].mean())\n",
        "test_data['MSZoning']=test_data['MSZoning'].fillna(test_data['MSZoning'].mode()[0])\n",
        "test_data['Alley']=test_data['Alley'].fillna(test_data['Alley'].mode()[0])\n",
        "test_data['BsmtCond']=test_data['BsmtCond'].fillna(test_data['BsmtCond'].mode()[0])\n",
        "test_data['BsmtQual']=test_data['BsmtQual'].fillna(test_data['BsmtQual'].mode()[0])\n",
        "test_data['FireplaceQu']=test_data['FireplaceQu'].fillna(test_data['FireplaceQu'].mode()[0])\n",
        "test_data['GarageType']=test_data['GarageType'].fillna(test_data['GarageType'].mode()[0])\n",
        "test_data.drop(['GarageYrBlt'],axis=1,inplace=True)\n",
        "test_data['GarageFinish']=test_data['GarageFinish'].fillna(test_data['GarageFinish'].mode()[0])\n",
        "test_data['GarageQual']=test_data['GarageQual'].fillna(test_data['GarageQual'].mode()[0])\n",
        "test_data['GarageCond']=test_data['GarageCond'].fillna(test_data['GarageCond'].mode()[0])\n",
        "test_data['PoolQC']=test_data['PoolQC'].fillna(test_data['PoolQC'].mode()[0])\n",
        "test_data['Fence']=test_data['Fence'].fillna(test_data['Fence'].mode()[0])\n",
        "test_data['MiscFeature']=test_data['MiscFeature'].fillna(test_data['MiscFeature'].mode()[0])\n",
        "test_data.drop(['Id'],axis=1,inplace=True)\n",
        "test_data['MasVnrType']=test_data['MasVnrType'].fillna(test_data['MasVnrType'].mode()[0])\n",
        "test_data['MasVnrArea']=test_data['MasVnrArea'].fillna(test_data['MasVnrArea'].mode()[0])\n",
        "test_data['BsmtExposure']=test_data['BsmtExposure'].fillna(test_data['BsmtExposure'].mode()[0])\n",
        "test_data['BsmtFinType2']=test_data['BsmtFinType2'].fillna(test_data['BsmtFinType2'].mode()[0])\n",
        "test_data['Utilities']=test_data['Utilities'].fillna(test_data['Utilities'].mode()[0])\n",
        "test_data['Exterior1st']=test_data['Exterior1st'].fillna(test_data['Exterior1st'].mode()[0])\n",
        "test_data['Exterior2nd']=test_data['Exterior2nd'].fillna(test_data['Exterior2nd'].mode()[0])\n",
        "test_data['BsmtFinType1']=test_data['BsmtFinType1'].fillna(test_data['BsmtFinType1'].mode()[0])\n",
        "test_data['BsmtFinSF1']=test_data['BsmtFinSF1'].fillna(test_data['BsmtFinSF1'].mean())\n",
        "test_data['BsmtFinSF2']=test_data['BsmtFinSF2'].fillna(test_data['BsmtFinSF2'].mean())\n",
        "test_data['BsmtUnfSF']=test_data['BsmtUnfSF'].fillna(test_data['BsmtUnfSF'].mean())\n",
        "test_data['TotalBsmtSF']=test_data['TotalBsmtSF'].fillna(test_data['TotalBsmtSF'].mean())\n",
        "test_data['BsmtFullBath']=test_data['BsmtFullBath'].fillna(test_data['BsmtFullBath'].mode()[0])\n",
        "test_data['BsmtHalfBath']=test_data['BsmtHalfBath'].fillna(test_data['BsmtHalfBath'].mode()[0])\n",
        "test_data['KitchenQual']=test_data['KitchenQual'].fillna(test_data['KitchenQual'].mode()[0])\n",
        "test_data['Functional']=test_data['Functional'].fillna(test_data['Functional'].mode()[0])\n",
        "test_data['GarageCars']=test_data['GarageCars'].fillna(test_data['GarageCars'].mean())\n",
        "test_data['GarageArea']=test_data['GarageArea'].fillna(test_data['GarageArea'].mean())\n",
        "test_data['SaleType']=test_data['SaleType'].fillna(test_data['SaleType'].mode()[0])"
      ],
      "metadata": {
        "id": "YNlReacHAs7H"
      },
      "execution_count": null,
      "outputs": []
    },
    {
      "cell_type": "code",
      "source": [
        "test_data.shape"
      ],
      "metadata": {
        "id": "iJfdmY9_A0HG"
      },
      "execution_count": null,
      "outputs": []
    },
    {
      "cell_type": "code",
      "source": [
        "test_data.isna().sum()"
      ],
      "metadata": {
        "id": "5OL6rs2EB4n0"
      },
      "execution_count": null,
      "outputs": []
    },
    {
      "cell_type": "markdown",
      "source": [
        "<a id='RD'></a>\n",
        "# 5. EDA"
      ],
      "metadata": {
        "id": "nbmmQ7vuSdUP"
      }
    },
    {
      "cell_type": "code",
      "source": [
        "corr_matrix = train_data.corr()\n",
        "high_corr_features = corr_matrix[abs(corr_matrix['SalePrice']) > 0.5].index\n",
        "\n",
        "# Select the relevant columns from the DataFrame\n",
        "high_corr_df = train_data[high_corr_features]\n",
        "\n",
        "# Create a heatmap of the high correlation features\n",
        "plt.figure(figsize=(12, 8))\n",
        "sns.heatmap(high_corr_df.corr(), annot=True, cmap=\"coolwarm\", fmt=\".2f\")\n",
        "plt.title(\"Correlation Heatmap of Features with Correlation > 0.5\")\n",
        "plt.show()"
      ],
      "metadata": {
        "id": "J_64VTFzVh0u"
      },
      "execution_count": null,
      "outputs": []
    },
    {
      "cell_type": "code",
      "source": [
        "plt.figure(figsize=(8, 6))\n",
        "sns.histplot(train_data['SalePrice'], kde=True)\n",
        "plt.title('Distribution of SalePrice')\n",
        "plt.show()"
      ],
      "metadata": {
        "id": "RENFYwv8Wzgs"
      },
      "execution_count": null,
      "outputs": []
    },
    {
      "cell_type": "code",
      "source": [
        "sns.pairplot(train_data, vars=['OverallQual', 'GrLivArea', 'TotalBsmtSF', 'SalePrice'])"
      ],
      "metadata": {
        "id": "FKmgtuQ0W_VP"
      },
      "execution_count": null,
      "outputs": []
    },
    {
      "cell_type": "code",
      "source": [
        "!pip install plotly\n",
        "\n",
        "import plotly.express as px\n",
        "\n",
        "# Loop through columns in train_data\n",
        "for col in train_data.columns:\n",
        "    # Create a box plot using plotly express\n",
        "    fig = px.box(train_data, x=col, y='SalePrice', title=f'Boxplot of {col} vs SalePrice')\n",
        "\n",
        "    # Define a custom hovertemplate\n",
        "    hovertemplate = f'<b>{col}</b>: %{{x}}<br>SalePrice: %{{y}}<extra></extra>'\n",
        "\n",
        "    # Set the custom hovertemplate\n",
        "    fig.update_traces(hovertemplate=hovertemplate, marker=dict(size=3))\n",
        "\n",
        "    # Show the plot\n",
        "    fig.show()\n"
      ],
      "metadata": {
        "id": "f9GGrDKOXKUS"
      },
      "execution_count": null,
      "outputs": []
    },
    {
      "cell_type": "markdown",
      "source": [
        "<a id=\"Label_Encoding_of_Categorical_Data\"> </a>\n",
        "## 6. One Hot Encoding of Categorical Data"
      ],
      "metadata": {
        "id": "9W-tPlKUSzdv"
      }
    },
    {
      "cell_type": "code",
      "source": [
        "columns=['MSZoning','Street','LotShape','LandContour','Utilities','LotConfig','LandSlope','Neighborhood',\n",
        "         'Condition2','BldgType','Condition1','HouseStyle','SaleType',\n",
        "        'SaleCondition','ExterCond',\n",
        "         'ExterQual','Foundation','BsmtQual','BsmtCond','BsmtExposure','BsmtFinType1','BsmtFinType2',\n",
        "        'RoofStyle','RoofMatl','Exterior1st','Exterior2nd','MasVnrType','Heating','HeatingQC',\n",
        "         'CentralAir',\n",
        "         'Electrical','KitchenQual','Functional',\n",
        "         'FireplaceQu','GarageType','GarageFinish','GarageQual','GarageCond','PavedDrive','Alley','PoolQC','Fence','MiscFeature']"
      ],
      "metadata": {
        "id": "igz5NoWiRuKR"
      },
      "execution_count": null,
      "outputs": []
    },
    {
      "cell_type": "code",
      "source": [
        "len(columns)"
      ],
      "metadata": {
        "id": "aWzselIZS9r2"
      },
      "execution_count": null,
      "outputs": []
    },
    {
      "cell_type": "code",
      "source": [
        "def category_onehot_multcols(multcolumns):\n",
        "    df_final=final_df\n",
        "    i=0\n",
        "    for fields in multcolumns:\n",
        "\n",
        "        print(fields)\n",
        "        df1=pd.get_dummies(final_df[fields],drop_first=True)\n",
        "\n",
        "        final_df.drop([fields],axis=1,inplace=True)\n",
        "        if i==0:\n",
        "            df_final=df1.copy()\n",
        "        else:\n",
        "\n",
        "            df_final=pd.concat([df_final,df1],axis=1)\n",
        "        i=i+1\n",
        "\n",
        "\n",
        "    df_final=pd.concat([final_df,df_final],axis=1)\n",
        "\n",
        "    return df_final"
      ],
      "metadata": {
        "id": "DTpfuAn7S_IC"
      },
      "execution_count": null,
      "outputs": []
    },
    {
      "cell_type": "code",
      "source": [
        "#combine the train and test data\n",
        "final_df=pd.concat([train_data,test_data],axis=0)"
      ],
      "metadata": {
        "id": "v7jdQxFRx3io"
      },
      "execution_count": null,
      "outputs": []
    },
    {
      "cell_type": "code",
      "source": [
        "#pass the final_df with one hot encoder function\n",
        "final_df=category_onehot_multcols(columns)"
      ],
      "metadata": {
        "id": "q6NlN-_5x74I"
      },
      "execution_count": null,
      "outputs": []
    },
    {
      "cell_type": "code",
      "source": [
        "final_df.shape"
      ],
      "metadata": {
        "id": "YUQ5ECByx_Mo"
      },
      "execution_count": null,
      "outputs": []
    },
    {
      "cell_type": "code",
      "source": [
        "#removing the duplicated features from the dataset\n",
        "final_df =final_df.loc[:,~final_df.columns.duplicated()]"
      ],
      "metadata": {
        "id": "YhBPDFOyyNGD"
      },
      "execution_count": null,
      "outputs": []
    },
    {
      "cell_type": "code",
      "source": [
        "final_df.shape"
      ],
      "metadata": {
        "id": "R8ARfmpyyPnw"
      },
      "execution_count": null,
      "outputs": []
    },
    {
      "cell_type": "markdown",
      "source": [
        "<a id=\"Label_Encoding_of_Categorical_Data\"> </a>\n",
        "## 7. Splitting the data"
      ],
      "metadata": {
        "id": "zDZ0xlH-WEEr"
      }
    },
    {
      "cell_type": "code",
      "source": [
        "df_Train=final_df.iloc[:1422,:]\n",
        "df_Test=final_df.iloc[1422:,:]"
      ],
      "metadata": {
        "id": "6koLFNMByXYx"
      },
      "execution_count": null,
      "outputs": []
    },
    {
      "cell_type": "code",
      "source": [
        "df_Test.drop(['SalePrice'],axis=1,inplace=True)"
      ],
      "metadata": {
        "id": "HS24_zFFya1N"
      },
      "execution_count": null,
      "outputs": []
    },
    {
      "cell_type": "code",
      "source": [
        "x=df_Train.drop(columns='SalePrice',axis=1)"
      ],
      "metadata": {
        "id": "ulP0MyEfyjea"
      },
      "execution_count": null,
      "outputs": []
    },
    {
      "cell_type": "code",
      "source": [
        "y=df_Train['SalePrice']"
      ],
      "metadata": {
        "id": "mjJ2Pa2mytQJ"
      },
      "execution_count": null,
      "outputs": []
    },
    {
      "cell_type": "code",
      "source": [
        "x_train,x_test,y_train,y_test=train_test_split(x,y,test_size=0.2)"
      ],
      "metadata": {
        "id": "3XeP2e5WyfD1"
      },
      "execution_count": null,
      "outputs": []
    },
    {
      "cell_type": "markdown",
      "source": [
        "<a id=\"Label_Encoding_of_Categorical_Data\"> </a>\n",
        "## 8. Model Training"
      ],
      "metadata": {
        "id": "DjyJEXwBWLh3"
      }
    },
    {
      "cell_type": "markdown",
      "source": [
        "<a id='Check for missing Values'></a>\n",
        "### 8.1  Linear Regression"
      ],
      "metadata": {
        "id": "7qyMW67JF4UH"
      }
    },
    {
      "cell_type": "code",
      "source": [
        "model_1=LinearRegression()"
      ],
      "metadata": {
        "id": "oO63APy7F_zB"
      },
      "execution_count": null,
      "outputs": []
    },
    {
      "cell_type": "code",
      "source": [
        "model_1.fit(x_train,y_train)"
      ],
      "metadata": {
        "id": "3_L5-VIdGF-q"
      },
      "execution_count": null,
      "outputs": []
    },
    {
      "cell_type": "code",
      "source": [
        "ypred_1=model_1.predict(x_test)"
      ],
      "metadata": {
        "id": "4OgFpSy0Gk_r"
      },
      "execution_count": null,
      "outputs": []
    },
    {
      "cell_type": "code",
      "source": [
        "model_1.score(x_test,y_test)"
      ],
      "metadata": {
        "id": "4-qfZOz-GmHI"
      },
      "execution_count": null,
      "outputs": []
    },
    {
      "cell_type": "markdown",
      "source": [
        "<a id='Check for missing Values'></a>\n",
        "### 8.2  Decison Tree Regressor"
      ],
      "metadata": {
        "id": "Yd-elupxH3SC"
      }
    },
    {
      "cell_type": "code",
      "source": [
        "model_3=DecisionTreeRegressor()"
      ],
      "metadata": {
        "id": "jcu8j0VOIM-p"
      },
      "execution_count": null,
      "outputs": []
    },
    {
      "cell_type": "code",
      "source": [
        "model_3.fit(x_train,y_train)"
      ],
      "metadata": {
        "id": "pPKsEl1nIM8H"
      },
      "execution_count": null,
      "outputs": []
    },
    {
      "cell_type": "code",
      "source": [
        "ypred_3=model_3.predict(x_test)"
      ],
      "metadata": {
        "id": "qixCY34uIM2q"
      },
      "execution_count": null,
      "outputs": []
    },
    {
      "cell_type": "code",
      "source": [
        "model_3.score(x_test,y_test)"
      ],
      "metadata": {
        "id": "3OxZFVgWIMz3"
      },
      "execution_count": null,
      "outputs": []
    },
    {
      "cell_type": "markdown",
      "source": [
        "<a id='Check for missing Values'></a>\n",
        "### 8.3  Xgboost"
      ],
      "metadata": {
        "id": "uOi7t68eI94I"
      }
    },
    {
      "cell_type": "code",
      "source": [
        "regressor=xgboost.XGBRegressor()"
      ],
      "metadata": {
        "id": "EfF8YFCbWRWd"
      },
      "execution_count": null,
      "outputs": []
    },
    {
      "cell_type": "code",
      "source": [
        "regressor.fit(x_train,y_train)"
      ],
      "metadata": {
        "id": "mTMiwFYly-6O"
      },
      "execution_count": null,
      "outputs": []
    },
    {
      "cell_type": "code",
      "source": [
        "ypred_4=regressor.predict(x_test)"
      ],
      "metadata": {
        "id": "w7DjejAuzIey"
      },
      "execution_count": null,
      "outputs": []
    },
    {
      "cell_type": "code",
      "source": [
        "regressor.score(x_test,y_test)"
      ],
      "metadata": {
        "id": "9HRnZZYPDgf0"
      },
      "execution_count": null,
      "outputs": []
    },
    {
      "cell_type": "code",
      "source": [
        "#root mean square error\n",
        "np.sqrt(mean_squared_error(y_test,ypred_4))"
      ],
      "metadata": {
        "id": "LYEDPtrpzUWW"
      },
      "execution_count": null,
      "outputs": []
    },
    {
      "cell_type": "markdown",
      "source": [
        "<a id='Check for missing Values'></a>\n",
        "## 8.3.1 Hyper Parameter optimization"
      ],
      "metadata": {
        "id": "ugoN708cWzSG"
      }
    },
    {
      "cell_type": "code",
      "source": [
        "## Hyper Parameter Optimization\n",
        "from sklearn.model_selection import RandomizedSearchCV\n",
        "n_estimators = [100, 500, 900, 1100, 1500]\n",
        "max_depth = [2, 3, 5, 10, 15]\n",
        "booster=['gbtree','gblinear']\n",
        "learning_rate=[0.05,0.1,0.15,0.20]\n",
        "min_child_weight=[1,2,3,4]\n",
        "base_score=[0.25,0.5,0.75,1]\n",
        "\n",
        "# Define the grid of hyperparameters to search\n",
        "hyperparameter_grid = {\n",
        "    'n_estimators': n_estimators,\n",
        "    'max_depth':max_depth,\n",
        "    'learning_rate':learning_rate,\n",
        "    'min_child_weight':min_child_weight,\n",
        "    'booster':booster,\n",
        "    'base_score':base_score\n",
        "    }\n",
        "\n",
        "random_cv = RandomizedSearchCV(estimator=regressor,\n",
        "            param_distributions=hyperparameter_grid,\n",
        "            cv=5, n_iter=50,\n",
        "            scoring = 'neg_mean_absolute_error',n_jobs = 4,\n",
        "            verbose = 5,\n",
        "            return_train_score = True,\n",
        "            random_state=42)\n",
        "\n",
        "random_cv.fit(x_train,y_train)\n"
      ],
      "metadata": {
        "id": "A4PZeGLLW4Qh"
      },
      "execution_count": null,
      "outputs": []
    },
    {
      "cell_type": "code",
      "source": [
        "random_cv.best_estimator_"
      ],
      "metadata": {
        "id": "lMHv2ajBRDEm"
      },
      "execution_count": null,
      "outputs": []
    },
    {
      "cell_type": "code",
      "source": [
        "regressor = xgboost.XGBRegressor(base_score=0.25, booster='gbtree', callbacks=None,\n",
        "             colsample_bylevel=None, colsample_bynode=None,\n",
        "             colsample_bytree=None, device=None, early_stopping_rounds=None,\n",
        "             enable_categorical=False, eval_metric=None, feature_types=None,\n",
        "             gamma=None, grow_policy=None, importance_type=None,\n",
        "             interaction_constraints=None, learning_rate=0.1, max_bin=None,\n",
        "             max_cat_threshold=None, max_cat_to_onehot=None,\n",
        "             max_delta_step=None, max_depth=2, max_leaves=None,\n",
        "             min_child_weight=1,  monotone_constraints=None,\n",
        "             multi_strategy=None, n_estimators=900, n_jobs=None,\n",
        "             num_parallel_tree=None, random_state=None)"
      ],
      "metadata": {
        "id": "Fkn4AI_pROjU"
      },
      "execution_count": null,
      "outputs": []
    },
    {
      "cell_type": "code",
      "source": [
        "regressor.fit(x_train,y_train)\n",
        "y_pred=regressor.predict(x_test)\n",
        "print(\"score: \", str(regressor.score(x_test,y_test) ))\n",
        "print(\"rmse: \", str(np.sqrt(mean_squared_error(y_test,y_pred))))"
      ],
      "metadata": {
        "id": "CMPsJHDVRwg_"
      },
      "execution_count": null,
      "outputs": []
    },
    {
      "cell_type": "markdown",
      "source": [
        "<a id=\"Label_Encoding_of_Categorical_Data\"> </a>\n",
        "## 9. Prediction\n",
        "The prediction is for the test_data"
      ],
      "metadata": {
        "id": "BMYAUEujXI1u"
      }
    },
    {
      "cell_type": "code",
      "source": [
        "predictions=regressor.predict(df_Test)"
      ],
      "metadata": {
        "id": "R3tld1YSzpBK"
      },
      "execution_count": null,
      "outputs": []
    },
    {
      "cell_type": "code",
      "source": [
        "prediction = pd.DataFrame(predictions)"
      ],
      "metadata": {
        "id": "CadFBgMWz62Q"
      },
      "execution_count": null,
      "outputs": []
    },
    {
      "cell_type": "code",
      "source": [
        "prediction.to_csv('pred_test_data.csv')"
      ],
      "metadata": {
        "id": "18LfmErSz8z-"
      },
      "execution_count": null,
      "outputs": []
    },
    {
      "cell_type": "code",
      "source": [
        "prediction"
      ],
      "metadata": {
        "id": "u-Pm1CsaE9uQ"
      },
      "execution_count": null,
      "outputs": []
    },
    {
      "cell_type": "markdown",
      "source": [
        "<a id=\"Label_Encoding_of_Categorical_Data\"> </a>\n",
        "## 10. Deployment\n"
      ],
      "metadata": {
        "id": "BuGxgUpnXdhx"
      }
    },
    {
      "cell_type": "code",
      "execution_count": null,
      "metadata": {
        "id": "tIEI0cBKcB0M"
      },
      "outputs": [],
      "source": [
        "!pip install streamlit -q"
      ]
    },
    {
      "cell_type": "code",
      "execution_count": null,
      "metadata": {
        "id": "69Ftt7C4ebVT"
      },
      "outputs": [],
      "source": [
        "%%writefile web_page_xgboost_custom.py\n",
        "# Import necessary libraries\n",
        "import streamlit as st\n",
        "import pandas as pd\n",
        "import numpy as np\n",
        "from sklearn.preprocessing import OneHotEncoder\n",
        "import xgboost as xgb\n",
        "\n",
        "def local_css(file_name):\n",
        "    with open(file_name) as f:\n",
        "        st.markdown(f'<style>{f.read()}</style>', unsafe_allow_html=True)\n",
        "\n",
        "# Local CSS sheet\n",
        "local_css(\"style.css\")\n",
        "\n",
        "# Function to preprocess data, train the model, and return predictions\n",
        "def train_and_predict(df, feature_values, encoder):\n",
        "    # Separate categorical and numeric columns\n",
        "    categorical_cols = df.select_dtypes(include=['object']).columns\n",
        "    numeric_cols = [col for col in df.columns if col not in categorical_cols and col != 'SalePrice']\n",
        "\n",
        "    # Encode categorical features in the training data\n",
        "    X_categorical = encoder.transform(df[categorical_cols])\n",
        "\n",
        "    # Combine encoded categorical features with numeric features\n",
        "    X = np.concatenate((X_categorical, df[numeric_cols].values), axis=1)\n",
        "    y = df['SalePrice'].values\n",
        "\n",
        "    # Train an XGBoost model with custom hyperparameters\n",
        "    model = xgb.XGBRegressor(\n",
        "        n_estimators=900,\n",
        "        max_depth=2,\n",
        "        learning_rate=0.1,\n",
        "        base_score=0.25,\n",
        "        booster='gbtree',\n",
        "        enable_categorical=False,\n",
        "        eval_metric=None,\n",
        "        gamma=None,\n",
        "        min_child_weight=1,\n",
        "        random_state=None\n",
        "    )\n",
        "    model.fit(X, y)  # Use the entire dataset for training\n",
        "\n",
        "    # Prepare the input feature values for prediction\n",
        "    input_categorical = encoder.transform(np.array([feature_values[column] for column in categorical_cols]).reshape(1, -1))\n",
        "    input_numeric = np.array([feature_values[column] for column in numeric_cols]).astype(float).reshape(1, -1)\n",
        "\n",
        "    # Combine encoded categorical features with numeric features for prediction\n",
        "    input_features = np.concatenate((input_categorical, input_numeric), axis=1)\n",
        "\n",
        "    # Predict the 'SalePrice' column using the provided feature values\n",
        "    predicted_value = model.predict(input_features)\n",
        "\n",
        "    return predicted_value[0]\n",
        "\n",
        "# Streamlit app\n",
        "st.title(\"House Price Prediction App\")\n",
        "\n",
        "# Upload a CSV file\n",
        "uploaded_file = st.file_uploader(\"Upload your CSV file\", type=[\"csv\"])\n",
        "\n",
        "if uploaded_file is not None:\n",
        "    # Load the dataset\n",
        "    df = pd.read_csv(uploaded_file)\n",
        "\n",
        "    st.subheader(\"DataFrame Preview\")\n",
        "    st.write(df.head())\n",
        "\n",
        "    # Exclude the 'SalePrice' column from the list of categorical and numeric columns\n",
        "    categorical_cols = df.select_dtypes(include=['object']).columns\n",
        "    numeric_cols = [col for col in df.columns if col not in categorical_cols and col != 'SalePrice']\n",
        "\n",
        "    # Select the feature columns and input values manually\n",
        "    st.subheader(\"Manually Enter Feature Values\")\n",
        "    feature_values = {}\n",
        "\n",
        "    for column in categorical_cols:\n",
        "        if column != 'SalePrice':\n",
        "            feature_values[column] = st.selectbox(f\"Select value for {column}\", df[column].unique())\n",
        "\n",
        "    for column in numeric_cols:\n",
        "        if column != 'SalePrice':\n",
        "            input_value = st.text_input(f\"Enter value for {column}\", \"\")\n",
        "            # Check for empty string or space and replace with a default value (e.g., 0)\n",
        "            input_value = input_value.strip()  # Remove leading/trailing spaces\n",
        "            input_value = input_value if input_value != \"\" else \"0\"  # Replace empty string with \"0\"\n",
        "            feature_values[column] = input_value\n",
        "\n",
        "    # Create and fit the OneHotEncoder on the categorical columns\n",
        "    encoder = OneHotEncoder(sparse=False, drop='first')\n",
        "    encoder.fit(df[categorical_cols])\n",
        "\n",
        "    if st.button(\"Predict\"):\n",
        "        predicted_value = train_and_predict(df, feature_values, encoder)\n",
        "\n",
        "        st.subheader(\"Predicted Value\")\n",
        "        st.write(f\"The predicted 'SalePrice' value for the provided feature values is: {predicted_value:.2f}\")\n",
        "\n",
        "        st.success(\"Prediction made successfully!\")\n"
      ]
    },
    {
      "cell_type": "code",
      "execution_count": null,
      "metadata": {
        "id": "TBOMfvdoewdw"
      },
      "outputs": [],
      "source": [
        "!streamlit run web_page_xgboost_custom.py & npx localtunnel --port 8501"
      ]
    }
  ]
}